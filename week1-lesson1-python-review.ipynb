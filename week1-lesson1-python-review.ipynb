{
 "cells": [
  {
   "cell_type": "markdown",
   "id": "f8f9e4e5-e9a7-4ba2-81d9-0dac70012b67",
   "metadata": {},
   "source": [
    "# Python review\n",
    "\n",
    "Short review about some core concepts in python exemplified by objects in the Numpy library.\n",
    "\n",
    "- recall basic python vocabulary\n",
    "- practice markdown syntax\n",
    "\n",
    "## Libraries and packages \n",
    "\n",
    "**library:** is a collection of code that we can use to perform specific tasks in our programs. It can be as single file or multiple files. \n",
    "\n",
    "**NumPy**\n",
    "\n",
    "- core library for numerical computin in pythin\n",
    "- many of libraries use NumPy arrays as theri building blocks\n",
    "- computations on NumPyobjects ar eoptimized for speed and memory usage"
   ]
  },
  {
   "cell_type": "code",
   "execution_count": 23,
   "id": "9aedb2e4-cd0b-4702-9325-60dea1b12c7e",
   "metadata": {
    "tags": []
   },
   "outputs": [],
   "source": [
    "# Import NumPy with standard abbreviations np\n",
    "import numpy as np\n",
    "import pandas as pd"
   ]
  },
  {
   "cell_type": "markdown",
   "id": "925e6643-d895-4ee9-809e-ecd9884e27cb",
   "metadata": {},
   "source": [
    "(esc + press M twice -> convert code cell to markdown cell)\n",
    "## Variables \n",
    "\n",
    "**variable:** a name we assign to a particular object in python"
   ]
  },
  {
   "cell_type": "code",
   "execution_count": 3,
   "id": "959f8f86-6834-464d-bae9-7326c6945879",
   "metadata": {
    "tags": []
   },
   "outputs": [],
   "source": [
    "# Example \n",
    "# Assign a small array to variable a\n",
    "\n",
    "a = np.array([[1,1,2],[3,5,8]])"
   ]
  },
  {
   "cell_type": "code",
   "execution_count": 4,
   "id": "67d461c2-289e-48af-be76-acef31277f5f",
   "metadata": {
    "tags": []
   },
   "outputs": [
    {
     "data": {
      "text/plain": [
       "array([[1, 1, 2],\n",
       "       [3, 5, 8]])"
      ]
     },
     "execution_count": 4,
     "metadata": {},
     "output_type": "execute_result"
    }
   ],
   "source": [
    "# View variable value\n",
    "# Run variable name\n",
    "\n",
    "a"
   ]
  },
  {
   "cell_type": "code",
   "execution_count": 5,
   "id": "b8702574-8ed3-4126-8a7d-31f447b95b7a",
   "metadata": {
    "tags": []
   },
   "outputs": [
    {
     "name": "stdout",
     "output_type": "stream",
     "text": [
      "[[1 1 2]\n",
      " [3 5 8]]\n"
     ]
    }
   ],
   "source": [
    "# Use print to print value\n",
    "\n",
    "print(a)"
   ]
  },
  {
   "cell_type": "code",
   "execution_count": 6,
   "id": "8c50bdff-bca6-4d27-bf46-17c0d97e7203",
   "metadata": {
    "tags": []
   },
   "outputs": [
    {
     "name": "stdout",
     "output_type": "stream",
     "text": [
      "[[1 1 2]\n",
      " [3 5 8]]\n"
     ]
    },
    {
     "data": {
      "text/plain": [
       "numpy.ndarray"
      ]
     },
     "execution_count": 6,
     "metadata": {},
     "output_type": "execute_result"
    }
   ],
   "source": [
    "print(a)\n",
    "type(a)"
   ]
  },
  {
   "cell_type": "code",
   "execution_count": 7,
   "id": "e890cce2-c0de-4263-9a20-de3a82bcc09b",
   "metadata": {
    "tags": []
   },
   "outputs": [
    {
     "name": "stdout",
     "output_type": "stream",
     "text": [
      "1\n"
     ]
    },
    {
     "data": {
      "text/plain": [
       "numpy.int64"
      ]
     },
     "execution_count": 7,
     "metadata": {},
     "output_type": "execute_result"
    }
   ],
   "source": [
    "print(a[0,0])\n",
    "type(a[0,0])"
   ]
  },
  {
   "cell_type": "code",
   "execution_count": 8,
   "id": "47a3be5a-a18c-47d7-bc26-eb3931490d90",
   "metadata": {
    "tags": []
   },
   "outputs": [
    {
     "data": {
      "text/plain": [
       "\u001b[0;31mDocstring:\u001b[0m\n",
       "print(value, ..., sep=' ', end='\\n', file=sys.stdout, flush=False)\n",
       "\n",
       "Prints the values to a stream, or to sys.stdout by default.\n",
       "Optional keyword arguments:\n",
       "file:  a file-like object (stream); defaults to the current sys.stdout.\n",
       "sep:   string inserted between values, default a space.\n",
       "end:   string appended after the last value, default a newline.\n",
       "flush: whether to forcibly flush the stream.\n",
       "\u001b[0;31mType:\u001b[0m      builtin_function_or_method"
      ]
     },
     "metadata": {},
     "output_type": "display_data"
    }
   ],
   "source": [
    "?print"
   ]
  },
  {
   "cell_type": "markdown",
   "id": "80efcb3d-bbeb-4e9d-8e6e-a5877fbef9ae",
   "metadata": {},
   "source": [
    "What we obtain is a **docstring**, a speecial type of comment that is used to document how a function (or a class or module) works.\n",
    "\n",
    "Notice is that there are different types of arguments inside the funtion's paranthesis\n",
    "\n",
    "Roughly speaking, a function has two types of arguments:\n",
    "\n"
   ]
  },
  {
   "cell_type": "code",
   "execution_count": 9,
   "id": "105d6b4b-36a9-47f8-9c3e-678a9cd7866f",
   "metadata": {
    "tags": []
   },
   "outputs": [
    {
     "name": "stdout",
     "output_type": "stream",
     "text": [
      "changing the default end argument of the print function ^_^"
     ]
    }
   ],
   "source": [
    "print('changing the default end argument of the print function', end=' ^_^')"
   ]
  },
  {
   "cell_type": "markdown",
   "id": "31305623-1b93-4056-aa88-d38507d2d9e3",
   "metadata": {},
   "source": [
    "## Attributes and methods\n",
    "\n",
    "An object in Python has attributes and methods.\n",
    "\n",
    "- **attributes**: a property of the object, some piece of information about it. \n",
    "- **method**: a procedure associated with an object, so it is an action where the main ingredient is the object itself. \n",
    "\n",
    "## Check-in\n",
    "\n",
    "Make a diagram like that cat one, for a class 'fish'. What are its (3) attributes and (3) methods?\n",
    "\n",
    "Example:\n",
    "\n",
    "NumPy arrays "
   ]
  },
  {
   "cell_type": "code",
   "execution_count": 10,
   "id": "13d8b081-9bc2-4942-8952-b6c9adb1e957",
   "metadata": {
    "tags": []
   },
   "outputs": [
    {
     "data": {
      "text/plain": [
       "array([[1, 2, 3],\n",
       "       [4, 5, 6],\n",
       "       [7, 8, 9]])"
      ]
     },
     "execution_count": 10,
     "metadata": {},
     "output_type": "execute_result"
    }
   ],
   "source": [
    "# A 3x3 array\n",
    "var = np.array([[1,2,3],[4,5,6],[7,8,9]])\n",
    "var"
   ]
  },
  {
   "cell_type": "code",
   "execution_count": 14,
   "id": "fbdabec7-20a3-4822-a449-e570b67765bf",
   "metadata": {
    "tags": []
   },
   "outputs": [
    {
     "name": "stdout",
     "output_type": "stream",
     "text": [
      "[[1 4 7]\n",
      " [2 5 8]\n",
      " [3 6 9]]\n",
      "<class 'numpy.ndarray'>\n"
     ]
    }
   ],
   "source": [
    "# T is an example of an attribute, it returns the transpose of array\n",
    "\n",
    "print(var.T)\n",
    "print(type(var.T))"
   ]
  },
  {
   "cell_type": "code",
   "execution_count": 12,
   "id": "676cb7fa-92bb-4372-b32c-a8f90d04b9ec",
   "metadata": {
    "tags": []
   },
   "outputs": [
    {
     "name": "stdout",
     "output_type": "stream",
     "text": [
      "(3, 3)\n",
      "<class 'tuple'>\n"
     ]
    }
   ],
   "source": [
    "print(var.shape)\n",
    "print(type(var.shape))"
   ]
  },
  {
   "cell_type": "code",
   "execution_count": 19,
   "id": "131fdd0e-fe20-4c4c-9864-b48e2d5e1e7a",
   "metadata": {
    "tags": []
   },
   "outputs": [
    {
     "name": "stdout",
     "output_type": "stream",
     "text": [
      "2\n",
      "<class 'int'>\n"
     ]
    }
   ],
   "source": [
    "print(var.ndim)\n",
    "print(type(var.ndim))"
   ]
  },
  {
   "cell_type": "code",
   "execution_count": 15,
   "id": "1a551ff4-600d-44f9-ae56-461546ef0fd0",
   "metadata": {
    "tags": []
   },
   "outputs": [
    {
     "data": {
      "text/plain": [
       "[[1, 2, 3], [4, 5, 6], [7, 8, 9]]"
      ]
     },
     "execution_count": 15,
     "metadata": {},
     "output_type": "execute_result"
    }
   ],
   "source": [
    "var.tolist()"
   ]
  },
  {
   "cell_type": "code",
   "execution_count": 16,
   "id": "309de6d9-71ee-477a-a338-cc8bf818962a",
   "metadata": {
    "tags": []
   },
   "outputs": [
    {
     "data": {
      "text/plain": [
       "array([1, 2, 3])"
      ]
     },
     "execution_count": 16,
     "metadata": {},
     "output_type": "execute_result"
    }
   ],
   "source": [
    "var.min(axis=0)"
   ]
  },
  {
   "cell_type": "code",
   "execution_count": 17,
   "id": "d2cfb154-78e2-4941-a0b7-1c2412a0a315",
   "metadata": {
    "tags": []
   },
   "outputs": [
    {
     "data": {
      "text/plain": [
       "builtin_function_or_method"
      ]
     },
     "execution_count": 17,
     "metadata": {},
     "output_type": "execute_result"
    }
   ],
   "source": [
    "type(var.tolist)"
   ]
  },
  {
   "cell_type": "code",
   "execution_count": 18,
   "id": "cba9a548-eac5-4b0f-b118-6eba47e5e489",
   "metadata": {
    "tags": []
   },
   "outputs": [
    {
     "data": {
      "text/plain": [
       "builtin_function_or_method"
      ]
     },
     "execution_count": 18,
     "metadata": {},
     "output_type": "execute_result"
    }
   ],
   "source": [
    "type(var.min)"
   ]
  },
  {
   "cell_type": "markdown",
   "id": "1b649e0e-80ce-40d9-b98d-c0f23a147b82",
   "metadata": {},
   "source": [
    "Remember, methods are **functions** associated with an object. We can confirm this!"
   ]
  },
  {
   "cell_type": "markdown",
   "id": "a082e28b-f3d6-4efb-aa63-20d029902dbf",
   "metadata": {},
   "source": [
    "## Exercise\n",
    "\n",
    "1. Read the 'print' function help. What is the type of argument 'sep'? Is this a default or non-default argument? Why?\n",
    "\n",
    "2. Create two new variables, one with the integer value 77 and another one with the string 99.\n",
    "\n",
    "3. Use your variables to print 77%99%77 by changing the value of one of the optional arguments in 'print'."
   ]
  },
  {
   "cell_type": "code",
   "execution_count": 20,
   "id": "6ff36a60-7133-4a22-9f5b-f11ac1f9be6b",
   "metadata": {
    "tags": []
   },
   "outputs": [
    {
     "name": "stdout",
     "output_type": "stream",
     "text": [
      "77%99%77\n"
     ]
    }
   ],
   "source": [
    "num = 77\n",
    "string_99 = '99'\n",
    "\n",
    "print(num, string_99, num, sep = '%')"
   ]
  },
  {
   "cell_type": "markdown",
   "id": "84856d11-65d4-488d-b282-0fd694ba87d7",
   "metadata": {},
   "source": [
    "## Check-in 1\n",
    "\n",
    "1. The integer number -999 is often used to represent mising values. Create a 'pandas.Series' named 's' with four integer values, two of which are -999. The index of this series shoujld be the letters A through D. \n",
    "\n",
    "2. In the pandas.Series documentation, look for the method mask(). Use this method to update between series s so that the -999 values are replaced by NA values. HINT: check the first example in the method’s documentation."
   ]
  },
  {
   "cell_type": "code",
   "execution_count": 21,
   "id": "262c2da1-9144-4017-adb6-6b3f39b0f3c0",
   "metadata": {
    "tags": []
   },
   "outputs": [],
   "source": [
    "# code"
   ]
  },
  {
   "cell_type": "markdown",
   "id": "dbc9627c-c6cf-4284-bc9a-efc1af2e8964",
   "metadata": {},
   "source": [
    "## Check-in 2\n",
    "\n",
    "We can access the data frame’s column names via the columns attribute. Update the column names to C1 and C2 by updating this attribute."
   ]
  },
  {
   "cell_type": "code",
   "execution_count": 24,
   "id": "fe1303aa-240d-4b74-ae64-3ff1b38019db",
   "metadata": {
    "tags": []
   },
   "outputs": [
    {
     "data": {
      "text/html": [
       "<div>\n",
       "<style scoped>\n",
       "    .dataframe tbody tr th:only-of-type {\n",
       "        vertical-align: middle;\n",
       "    }\n",
       "\n",
       "    .dataframe tbody tr th {\n",
       "        vertical-align: top;\n",
       "    }\n",
       "\n",
       "    .dataframe thead th {\n",
       "        text-align: right;\n",
       "    }\n",
       "</style>\n",
       "<table border=\"1\" class=\"dataframe\">\n",
       "  <thead>\n",
       "    <tr style=\"text-align: right;\">\n",
       "      <th></th>\n",
       "      <th>C1</th>\n",
       "      <th>C2</th>\n",
       "    </tr>\n",
       "  </thead>\n",
       "  <tbody>\n",
       "    <tr>\n",
       "      <th>0</th>\n",
       "      <td>0</td>\n",
       "      <td>3.1</td>\n",
       "    </tr>\n",
       "    <tr>\n",
       "      <th>1</th>\n",
       "      <td>1</td>\n",
       "      <td>3.2</td>\n",
       "    </tr>\n",
       "    <tr>\n",
       "      <th>2</th>\n",
       "      <td>2</td>\n",
       "      <td>3.3</td>\n",
       "    </tr>\n",
       "  </tbody>\n",
       "</table>\n",
       "</div>"
      ],
      "text/plain": [
       "   C1   C2\n",
       "0   0  3.1\n",
       "1   1  3.2\n",
       "2   2  3.3"
      ]
     },
     "execution_count": 24,
     "metadata": {},
     "output_type": "execute_result"
    }
   ],
   "source": [
    "d = {'col_name_1': pd.Series(np.arange(3)),\n",
    "    'col_name_2': pd.Series([3.1,3.2,3.3])}\n",
    "df = pd.DataFrame(d)\n",
    "df\n",
    "\n",
    "df = df.rename(columns={'col_name_1':'C1','col_name_2':'C2'})\n",
    "df"
   ]
  },
  {
   "cell_type": "code",
   "execution_count": 26,
   "id": "94c80d1b-2f62-49ba-aa98-6b149f0961bf",
   "metadata": {
    "tags": []
   },
   "outputs": [
    {
     "data": {
      "text/html": [
       "<div>\n",
       "<style scoped>\n",
       "    .dataframe tbody tr th:only-of-type {\n",
       "        vertical-align: middle;\n",
       "    }\n",
       "\n",
       "    .dataframe tbody tr th {\n",
       "        vertical-align: top;\n",
       "    }\n",
       "\n",
       "    .dataframe thead th {\n",
       "        text-align: right;\n",
       "    }\n",
       "</style>\n",
       "<table border=\"1\" class=\"dataframe\">\n",
       "  <thead>\n",
       "    <tr style=\"text-align: right;\">\n",
       "      <th></th>\n",
       "      <th>C1</th>\n",
       "      <th>C2</th>\n",
       "    </tr>\n",
       "  </thead>\n",
       "  <tbody>\n",
       "    <tr>\n",
       "      <th>0</th>\n",
       "      <td>0</td>\n",
       "      <td>3.1</td>\n",
       "    </tr>\n",
       "    <tr>\n",
       "      <th>1</th>\n",
       "      <td>1</td>\n",
       "      <td>3.2</td>\n",
       "    </tr>\n",
       "    <tr>\n",
       "      <th>2</th>\n",
       "      <td>2</td>\n",
       "      <td>3.3</td>\n",
       "    </tr>\n",
       "  </tbody>\n",
       "</table>\n",
       "</div>"
      ],
      "text/plain": [
       "   C1   C2\n",
       "0   0  3.1\n",
       "1   1  3.2\n",
       "2   2  3.3"
      ]
     },
     "execution_count": 26,
     "metadata": {},
     "output_type": "execute_result"
    }
   ],
   "source": [
    "# rename\n",
    "df.columns = ['C1','C2']\n",
    "df"
   ]
  }
 ],
 "metadata": {
  "kernelspec": {
   "display_name": "Python 3.10.0",
   "language": "python",
   "name": "python3.10.0"
  },
  "language_info": {
   "codemirror_mode": {
    "name": "ipython",
    "version": 3
   },
   "file_extension": ".py",
   "mimetype": "text/x-python",
   "name": "python",
   "nbconvert_exporter": "python",
   "pygments_lexer": "ipython3",
   "version": "3.10.0"
  }
 },
 "nbformat": 4,
 "nbformat_minor": 5
}
